{
 "cells": [
  {
   "cell_type": "code",
   "execution_count": 1,
   "id": "6bc1e009-7d32-4145-9173-4bd2ebfd330c",
   "metadata": {},
   "outputs": [],
   "source": [
    "import pandas as pd\n",
    "import os\n",
    "from sqlalchemy import create_engine\n",
    "import logging\n",
    "import time\n",
    "\n",
    "logging.basicConfig(\n",
    "    filename = \"logs/ingestion_db.log\",\n",
    "    level = logging.DEBUG,\n",
    "    format = \"%(asctime)s - %(levelname)s - %(message)s\",\n",
    "    filemode = \"a\"\n",
    ")\n",
    "\n",
    "engine = create_engine('sqlite:///inventory.db')\n",
    "\n",
    "# To store .csv dataframe into database table\n",
    "def ingest_db(df, table_name, engine):\n",
    "    df.to_sql(table_name, con = engine, if_exists = 'replace', index = False)\n",
    "\n",
    "# this func. will load CSVs as dataframe and ingest into db while creating logs\n",
    "def load_raw_data():\n",
    "    start = time.time()\n",
    "    for file in os.listdir('Desktop/Study/Vendor Performance Analysis/data'):\n",
    "        if '.csv' in file:\n",
    "            df = pd.read_csv('Desktop/Study/Vendor Performance Analysis/data/' + file)\n",
    "            logging.info(f'Ingesting {file} in db')\n",
    "            ingest_db(df, file[:-4], engine) # file[:-4] is used for slicing .csv from file.csv ( .csv has 4 letters)\n",
    "    end = time.time()\n",
    "    Total_Time = (end - start)/60\n",
    "    logging.info('Ingestion Complete')\n",
    "    logging.info(f'\\nTotal Time taken: {Total_Time} min')\n",
    "\n",
    "if __name__ == '__main__':\n",
    "    load_raw_data()"
   ]
  },
  {
   "cell_type": "code",
   "execution_count": null,
   "id": "bb0e9c63-a0eb-40fd-94d1-028f093bf4d9",
   "metadata": {},
   "outputs": [],
   "source": []
  }
 ],
 "metadata": {
  "kernelspec": {
   "display_name": "Python 3 (ipykernel)",
   "language": "python",
   "name": "python3"
  },
  "language_info": {
   "codemirror_mode": {
    "name": "ipython",
    "version": 3
   },
   "file_extension": ".py",
   "mimetype": "text/x-python",
   "name": "python",
   "nbconvert_exporter": "python",
   "pygments_lexer": "ipython3",
   "version": "3.13.7"
  }
 },
 "nbformat": 4,
 "nbformat_minor": 5
}
